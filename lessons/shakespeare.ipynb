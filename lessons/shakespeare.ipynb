{
 "cells": [
  {
   "cell_type": "markdown",
   "metadata": {},
   "source": [
    "# Processing Shakespeare \n",
    "\n",
    "Counting all the letters in shakespeares' works! \n",
    "\n",
    "First step is to read each line of the test file into a list of strings. "
   ]
  },
  {
   "cell_type": "code",
   "execution_count": 21,
   "metadata": {},
   "outputs": [
    {
     "name": "stdout",
     "output_type": "stream",
     "text": [
      "124440\n"
     ]
    }
   ],
   "source": [
    "from io import TextIOWrapper \n",
    "\n",
    "def read_lines(filename: str) -> list[str]: \n",
    "    \"\"\"Read a text file into a list of strings for ech line.\"\"\"\n",
    "    lines: list[str]= []\n",
    "    file_handle: TextIOWrapper = open(filename, \"r\")\n",
    "    for line in file_handle:\n",
    "        line = line.strip()\n",
    "        line = line.lower() \n",
    "        lines.append(line) \n",
    "    return lines \n",
    "\n",
    "shakespeares_lines: list[str] = read_lines(\"./shakespeare.txt\")\n",
    "print(len(shakespeares_lines))"
   ]
  },
  {
   "cell_type": "code",
   "execution_count": 22,
   "metadata": {},
   "outputs": [
    {
     "name": "stdout",
     "output_type": "stream",
     "text": [
      "['this is the 100th etext file presented by project gutenberg, and', 'is presented in cooperation with world library, inc., from their', 'library of the future and shakespeare cdroms.  project gutenberg', 'often releases etexts that are not placed in the public domain!!', '']\n"
     ]
    }
   ],
   "source": [
    "# Example of \"Slice Notation\"\n",
    "\n",
    "print(shakespeares_lines[0:5])"
   ]
  },
  {
   "cell_type": "markdown",
   "metadata": {},
   "source": [
    "The next step of our analysis is to count all of letters in Shakespeare's complete body of work. "
   ]
  },
  {
   "cell_type": "code",
   "execution_count": 23,
   "metadata": {},
   "outputs": [
    {
     "name": "stdout",
     "output_type": "stream",
     "text": [
      "{'t': 329746, 'h': 236853, 'i': 253949, 's': 248959, 'e': 447148, 'x': 5292, 'f': 80507, 'l': 169996, 'p': 58451, 'r': 237828, 'n': 243240, 'd': 149443, 'b': 61943, 'y': 94360, 'o': 314559, 'j': 4778, 'c': 88163, 'g': 68193, 'u': 128938, 'a': 289126, 'w': 89383, 'm': 111438, 'k': 35404, 'v': 37566, 'z': 1631, 'q': 3582}\n"
     ]
    }
   ],
   "source": [
    "# Write a function named 'tally': \n",
    "# Given a reference to a dictionary, and a key: \n",
    "# Increase the value stored at the key by 1 if key exists \n",
    "# Otherwise set key's initial value to zero \n",
    "# Function that returns None \n",
    "\n",
    "def tally(counts: dict[str, int], key: str) -> None: \n",
    "    \"\"\"Mutate counts by incrementing value stored at key by 1.\"\"\"\n",
    "    if key in counts: \n",
    "        counts[key] += 1 \n",
    "    else: \n",
    "        counts[key] = 1\n",
    "    \n",
    "\n",
    "def count_letters(lines: list[str]) -> dict[str, int]: \n",
    "    \"\"\"Count the frequency of all lettes in a list of strings.\"\"\"\n",
    "    counts: dict[str, int] = {}\n",
    "    for line in lines: \n",
    "        for char in line: \n",
    "            if char.isalpha():\n",
    "                tally(counts, char)\n",
    "   \n",
    "    return counts \n",
    "shakespeares_counts: dict[str, int] = (count_letters(shakespeares_lines))\n",
    "print(shakespeares_counts)"
   ]
  },
  {
   "cell_type": "markdown",
   "metadata": {},
   "source": [
    "Visualize with a bar chart this data about character frequencies."
   ]
  },
  {
   "cell_type": "code",
   "execution_count": 24,
   "metadata": {},
   "outputs": [
    {
     "ename": "ModuleNotFoundError",
     "evalue": "No module named 'matplotlib'",
     "output_type": "error",
     "traceback": [
      "\u001b[0;31m---------------------------------------------------------------------------\u001b[0m",
      "\u001b[0;31mModuleNotFoundError\u001b[0m                       Traceback (most recent call last)",
      "Input \u001b[0;32mIn [24]\u001b[0m, in \u001b[0;36m<cell line: 1>\u001b[0;34m()\u001b[0m\n\u001b[0;32m----> 1\u001b[0m \u001b[38;5;28;01mfrom\u001b[39;00m \u001b[38;5;21;01mmatplotlib\u001b[39;00m \u001b[38;5;28;01mimport\u001b[39;00m pyplot \n\u001b[1;32m      2\u001b[0m pyplot\u001b[38;5;241m.\u001b[39mtitle(\u001b[38;5;124m\"\u001b[39m\u001b[38;5;124mFrequencies of Letters in Shakespeare\u001b[39m\u001b[38;5;124m\"\u001b[39m)\n\u001b[1;32m      3\u001b[0m pyplot\u001b[38;5;241m.\u001b[39mxlabel(\u001b[38;5;124m\"\u001b[39m\u001b[38;5;124mLetters\u001b[39m\u001b[38;5;124m\"\u001b[39m)\n",
      "\u001b[0;31mModuleNotFoundError\u001b[0m: No module named 'matplotlib'"
     ]
    }
   ],
   "source": [
    "from matplotlib import pyplot \n",
    "\n",
    "shakespeares_counts = dict(sorted(shakespeares_counts.items()))\n",
    "\n",
    "pyplot.title(\"Frequencies of Letters in Shakespeare\")\n",
    "pyplot.xlabel(\"Letters\")\n",
    "pyplot.ylabel(\"count\")\n",
    "labels: list[str] = list(shakespeares_counts.keys()) \n",
    "values: list[int] = list(shakespeares_counts. values())\n",
    "pyplot.bar(labels, values)\n"
   ]
  },
  {
   "cell_type": "code",
   "execution_count": null,
   "metadata": {},
   "outputs": [],
   "source": [
    "example_tuples: listr"
   ]
  }
 ],
 "metadata": {
  "interpreter": {
   "hash": "aee8b7b246df8f9039afb4144a1f6fd8d2ca17a180786b69acc140d282b71a49"
  },
  "kernelspec": {
   "display_name": "Python 3.10.1 64-bit",
   "language": "python",
   "name": "python3"
  },
  "language_info": {
   "codemirror_mode": {
    "name": "ipython",
    "version": 3
   },
   "file_extension": ".py",
   "mimetype": "text/x-python",
   "name": "python",
   "nbconvert_exporter": "python",
   "pygments_lexer": "ipython3",
   "version": "3.10.1"
  },
  "orig_nbformat": 4
 },
 "nbformat": 4,
 "nbformat_minor": 2
}
